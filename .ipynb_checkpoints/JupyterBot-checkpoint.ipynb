{
 "cells": [
  {
   "cell_type": "code",
   "execution_count": 1,
   "id": "a0fad857",
   "metadata": {},
   "outputs": [
    {
     "name": "stdout",
     "output_type": "stream",
     "text": [
      "Requirement already satisfied: SpeechRecognition in c:\\users\\mahaj\\anaconda3\\lib\\site-packages (3.10.1)\n",
      "Requirement already satisfied: requests>=2.26.0 in c:\\users\\mahaj\\anaconda3\\lib\\site-packages (from SpeechRecognition) (2.31.0)\n",
      "Requirement already satisfied: typing-extensions in c:\\users\\mahaj\\anaconda3\\lib\\site-packages (from SpeechRecognition) (4.7.1)\n",
      "Requirement already satisfied: charset-normalizer<4,>=2 in c:\\users\\mahaj\\anaconda3\\lib\\site-packages (from requests>=2.26.0->SpeechRecognition) (2.0.4)\n",
      "Requirement already satisfied: idna<4,>=2.5 in c:\\users\\mahaj\\anaconda3\\lib\\site-packages (from requests>=2.26.0->SpeechRecognition) (3.4)\n",
      "Requirement already satisfied: urllib3<3,>=1.21.1 in c:\\users\\mahaj\\anaconda3\\lib\\site-packages (from requests>=2.26.0->SpeechRecognition) (1.26.16)\n",
      "Requirement already satisfied: certifi>=2017.4.17 in c:\\users\\mahaj\\anaconda3\\lib\\site-packages (from requests>=2.26.0->SpeechRecognition) (2023.11.17)\n",
      "Note: you may need to restart the kernel to use updated packages.\n"
     ]
    }
   ],
   "source": [
    "pip install SpeechRecognition"
   ]
  },
  {
   "cell_type": "code",
   "execution_count": 2,
   "id": "9cd0edc3",
   "metadata": {},
   "outputs": [
    {
     "name": "stdout",
     "output_type": "stream",
     "text": [
      "Requirement already satisfied: pyttsx3 in c:\\users\\mahaj\\anaconda3\\lib\\site-packages (2.90)\n",
      "Requirement already satisfied: comtypes in c:\\users\\mahaj\\anaconda3\\lib\\site-packages (from pyttsx3) (1.2.0)\n",
      "Requirement already satisfied: pypiwin32 in c:\\users\\mahaj\\anaconda3\\lib\\site-packages (from pyttsx3) (223)\n",
      "Requirement already satisfied: pywin32 in c:\\users\\mahaj\\anaconda3\\lib\\site-packages (from pyttsx3) (305.1)\n",
      "Note: you may need to restart the kernel to use updated packages.\n"
     ]
    }
   ],
   "source": [
    "pip install pyttsx3"
   ]
  },
  {
   "cell_type": "code",
   "execution_count": 3,
   "id": "3a70a4a3",
   "metadata": {},
   "outputs": [
    {
     "name": "stdout",
     "output_type": "stream",
     "text": [
      "Requirement already satisfied: datetime in c:\\users\\mahaj\\anaconda3\\lib\\site-packages (5.4)\n",
      "Requirement already satisfied: zope.interface in c:\\users\\mahaj\\anaconda3\\lib\\site-packages (from datetime) (5.4.0)\n",
      "Requirement already satisfied: pytz in c:\\users\\mahaj\\anaconda3\\lib\\site-packages (from datetime) (2023.3.post1)\n",
      "Requirement already satisfied: setuptools in c:\\users\\mahaj\\anaconda3\\lib\\site-packages (from zope.interface->datetime) (68.0.0)\n",
      "Note: you may need to restart the kernel to use updated packages.\n"
     ]
    }
   ],
   "source": [
    "pip install datetime"
   ]
  },
  {
   "cell_type": "code",
   "execution_count": 4,
   "id": "128a578d",
   "metadata": {},
   "outputs": [
    {
     "name": "stdout",
     "output_type": "stream",
     "text": [
      "Requirement already satisfied: wikipedia in c:\\users\\mahaj\\anaconda3\\lib\\site-packages (1.4.0)\n",
      "Requirement already satisfied: beautifulsoup4 in c:\\users\\mahaj\\anaconda3\\lib\\site-packages (from wikipedia) (4.12.2)\n",
      "Requirement already satisfied: requests<3.0.0,>=2.0.0 in c:\\users\\mahaj\\anaconda3\\lib\\site-packages (from wikipedia) (2.31.0)\n",
      "Requirement already satisfied: charset-normalizer<4,>=2 in c:\\users\\mahaj\\anaconda3\\lib\\site-packages (from requests<3.0.0,>=2.0.0->wikipedia) (2.0.4)\n",
      "Requirement already satisfied: idna<4,>=2.5 in c:\\users\\mahaj\\anaconda3\\lib\\site-packages (from requests<3.0.0,>=2.0.0->wikipedia) (3.4)\n",
      "Requirement already satisfied: urllib3<3,>=1.21.1 in c:\\users\\mahaj\\anaconda3\\lib\\site-packages (from requests<3.0.0,>=2.0.0->wikipedia) (1.26.16)\n",
      "Requirement already satisfied: certifi>=2017.4.17 in c:\\users\\mahaj\\anaconda3\\lib\\site-packages (from requests<3.0.0,>=2.0.0->wikipedia) (2023.11.17)\n",
      "Requirement already satisfied: soupsieve>1.2 in c:\\users\\mahaj\\anaconda3\\lib\\site-packages (from beautifulsoup4->wikipedia) (2.4)\n",
      "Note: you may need to restart the kernel to use updated packages.\n"
     ]
    }
   ],
   "source": [
    "pip install wikipedia"
   ]
  },
  {
   "cell_type": "code",
   "execution_count": 5,
   "id": "45b38dd6",
   "metadata": {},
   "outputs": [
    {
     "name": "stdout",
     "output_type": "stream",
     "text": [
      "Requirement already satisfied: pyaudio in c:\\users\\mahaj\\anaconda3\\lib\\site-packages (0.2.14)Note: you may need to restart the kernel to use updated packages.\n",
      "\n"
     ]
    }
   ],
   "source": [
    "pip install pyaudio"
   ]
  },
  {
   "cell_type": "code",
   "execution_count": 6,
   "id": "e854a6b6",
   "metadata": {},
   "outputs": [
    {
     "name": "stdout",
     "output_type": "stream",
     "text": [
      "Requirement already satisfied: pyjokes in c:\\users\\mahaj\\anaconda3\\lib\\site-packages (0.6.0)\n",
      "Note: you may need to restart the kernel to use updated packages.\n"
     ]
    }
   ],
   "source": [
    "pip install pyjokes"
   ]
  },
  {
   "cell_type": "code",
   "execution_count": 7,
   "id": "699a687a",
   "metadata": {},
   "outputs": [
    {
     "name": "stdout",
     "output_type": "stream",
     "text": [
      "Requirement already satisfied: pywhatkit in c:\\users\\mahaj\\anaconda3\\lib\\site-packages (5.4)\n",
      "Requirement already satisfied: Pillow in c:\\users\\mahaj\\anaconda3\\lib\\site-packages (from pywhatkit) (10.0.1)\n",
      "Requirement already satisfied: pyautogui in c:\\users\\mahaj\\anaconda3\\lib\\site-packages (from pywhatkit) (0.9.54)\n",
      "Requirement already satisfied: requests in c:\\users\\mahaj\\anaconda3\\lib\\site-packages (from pywhatkit) (2.31.0)\n",
      "Requirement already satisfied: wikipedia in c:\\users\\mahaj\\anaconda3\\lib\\site-packages (from pywhatkit) (1.4.0)\n",
      "Requirement already satisfied: Flask in c:\\users\\mahaj\\anaconda3\\lib\\site-packages (from pywhatkit) (2.2.2)\n",
      "Requirement already satisfied: Werkzeug>=2.2.2 in c:\\users\\mahaj\\anaconda3\\lib\\site-packages (from Flask->pywhatkit) (2.2.3)\n",
      "Requirement already satisfied: Jinja2>=3.0 in c:\\users\\mahaj\\anaconda3\\lib\\site-packages (from Flask->pywhatkit) (3.1.2)\n",
      "Requirement already satisfied: itsdangerous>=2.0 in c:\\users\\mahaj\\anaconda3\\lib\\site-packages (from Flask->pywhatkit) (2.0.1)\n",
      "Requirement already satisfied: click>=8.0 in c:\\users\\mahaj\\anaconda3\\lib\\site-packages (from Flask->pywhatkit) (8.0.4)\n",
      "Requirement already satisfied: pymsgbox in c:\\users\\mahaj\\anaconda3\\lib\\site-packages (from pyautogui->pywhatkit) (1.0.9)\n",
      "Requirement already satisfied: pytweening>=1.0.4 in c:\\users\\mahaj\\anaconda3\\lib\\site-packages (from pyautogui->pywhatkit) (1.0.7)\n",
      "Requirement already satisfied: pyscreeze>=0.1.21 in c:\\users\\mahaj\\anaconda3\\lib\\site-packages (from pyautogui->pywhatkit) (0.1.30)\n",
      "Requirement already satisfied: pygetwindow>=0.0.5 in c:\\users\\mahaj\\anaconda3\\lib\\site-packages (from pyautogui->pywhatkit) (0.0.9)\n",
      "Requirement already satisfied: mouseinfo in c:\\users\\mahaj\\anaconda3\\lib\\site-packages (from pyautogui->pywhatkit) (0.1.3)\n",
      "Requirement already satisfied: charset-normalizer<4,>=2 in c:\\users\\mahaj\\anaconda3\\lib\\site-packages (from requests->pywhatkit) (2.0.4)\n",
      "Requirement already satisfied: idna<4,>=2.5 in c:\\users\\mahaj\\anaconda3\\lib\\site-packages (from requests->pywhatkit) (3.4)\n",
      "Requirement already satisfied: urllib3<3,>=1.21.1 in c:\\users\\mahaj\\anaconda3\\lib\\site-packages (from requests->pywhatkit) (1.26.16)\n",
      "Requirement already satisfied: certifi>=2017.4.17 in c:\\users\\mahaj\\anaconda3\\lib\\site-packages (from requests->pywhatkit) (2023.11.17)\n",
      "Requirement already satisfied: beautifulsoup4 in c:\\users\\mahaj\\anaconda3\\lib\\site-packages (from wikipedia->pywhatkit) (4.12.2)\n",
      "Requirement already satisfied: colorama in c:\\users\\mahaj\\anaconda3\\lib\\site-packages (from click>=8.0->Flask->pywhatkit) (0.4.6)\n",
      "Requirement already satisfied: MarkupSafe>=2.0 in c:\\users\\mahaj\\anaconda3\\lib\\site-packages (from Jinja2>=3.0->Flask->pywhatkit) (2.1.1)\n",
      "Requirement already satisfied: pyrect in c:\\users\\mahaj\\anaconda3\\lib\\site-packages (from pygetwindow>=0.0.5->pyautogui->pywhatkit) (0.2.0)\n",
      "Requirement already satisfied: soupsieve>1.2 in c:\\users\\mahaj\\anaconda3\\lib\\site-packages (from beautifulsoup4->wikipedia->pywhatkit) (2.4)\n",
      "Requirement already satisfied: pyperclip in c:\\users\\mahaj\\anaconda3\\lib\\site-packages (from mouseinfo->pyautogui->pywhatkit) (1.8.2)\n",
      "Note: you may need to restart the kernel to use updated packages.\n"
     ]
    }
   ],
   "source": [
    "pip install pywhatkit"
   ]
  },
  {
   "cell_type": "code",
   "execution_count": 8,
   "id": "04e4eb83",
   "metadata": {},
   "outputs": [
    {
     "name": "stdout",
     "output_type": "stream",
     "text": [
      "Note: you may need to restart the kernel to use updated packages.\n"
     ]
    },
    {
     "name": "stderr",
     "output_type": "stream",
     "text": [
      "ERROR: Could not find a version that satisfies the requirement sys (from versions: none)\n",
      "ERROR: No matching distribution found for sys\n"
     ]
    }
   ],
   "source": [
    "pip install sys"
   ]
  },
  {
   "cell_type": "code",
   "execution_count": 9,
   "id": "95daa130",
   "metadata": {},
   "outputs": [
    {
     "name": "stdout",
     "output_type": "stream",
     "text": [
      "Note: you may need to restart the kernel to use updated packages.\n"
     ]
    },
    {
     "name": "stderr",
     "output_type": "stream",
     "text": [
      "ERROR: Could not find a version that satisfies the requirement webbrowser (from versions: none)\n",
      "ERROR: No matching distribution found for webbrowser\n"
     ]
    }
   ],
   "source": [
    "pip install webbrowser"
   ]
  },
  {
   "cell_type": "code",
   "execution_count": 10,
   "id": "aed2615e",
   "metadata": {},
   "outputs": [
    {
     "name": "stdout",
     "output_type": "stream",
     "text": [
      "Note: you may need to restart the kernel to use updated packages.\n"
     ]
    },
    {
     "name": "stderr",
     "output_type": "stream",
     "text": [
      "ERROR: Could not find a version that satisfies the requirement tkinter (from versions: none)\n",
      "ERROR: No matching distribution found for tkinter\n"
     ]
    }
   ],
   "source": [
    "pip install tkinter"
   ]
  },
  {
   "cell_type": "code",
   "execution_count": 23,
   "id": "9506c1aa",
   "metadata": {},
   "outputs": [
    {
     "name": "stdout",
     "output_type": "stream",
     "text": [
      "Collecting pytesseract\n",
      "  Downloading pytesseract-0.3.10-py3-none-any.whl (14 kB)\n",
      "Requirement already satisfied: packaging>=21.3 in c:\\users\\mahaj\\anaconda3\\lib\\site-packages (from pytesseract) (23.1)\n",
      "Requirement already satisfied: Pillow>=8.0.0 in c:\\users\\mahaj\\anaconda3\\lib\\site-packages (from pytesseract) (10.0.1)\n",
      "Installing collected packages: pytesseract\n",
      "Successfully installed pytesseract-0.3.10\n",
      "Note: you may need to restart the kernel to use updated packages.\n"
     ]
    }
   ],
   "source": [
    "pip install pytesseract"
   ]
  },
  {
   "cell_type": "code",
   "execution_count": 24,
   "id": "6ab0a383",
   "metadata": {},
   "outputs": [
    {
     "name": "stdout",
     "output_type": "stream",
     "text": [
      "Requirement already satisfied: Pillow in c:\\users\\mahaj\\anaconda3\\lib\\site-packages (10.0.1)Note: you may need to restart the kernel to use updated packages.\n",
      "\n"
     ]
    }
   ],
   "source": [
    "pip install Pillow"
   ]
  },
  {
   "cell_type": "code",
   "execution_count": 1,
   "id": "8ccd5968",
   "metadata": {},
   "outputs": [],
   "source": [
    "import speech_recognition as sr\n",
    "import pyttsx3\n",
    "import datetime\n",
    "import wikipedia\n",
    "import pyaudio\n",
    "import pyjokes\n",
    "import pywhatkit\n",
    "import sys\n",
    "import webbrowser\n",
    "from datetime import date\n",
    "from tkinter import *\n",
    "from PIL import ImageTk, Image\n",
    "from tkinter import *"
   ]
  },
  {
   "cell_type": "code",
   "execution_count": 2,
   "id": "d51b8f05",
   "metadata": {},
   "outputs": [],
   "source": [
    "# Initialize the text-to-speech engine\n",
    "engine = pyttsx3.init()"
   ]
  },
  {
   "cell_type": "code",
   "execution_count": 3,
   "id": "159c1a16",
   "metadata": {},
   "outputs": [],
   "source": [
    "# Define the function to speak the response\n",
    "def speak(text):\n",
    "    engine.say(text)\n",
    "    engine.runAndWait()\n",
    "\n",
    "# Define the function to handle user input\n",
    "def get_input():\n",
    "    # Get the text from the input box\n",
    "    user_input = input_box.get()\n",
    "\n",
    "    # Clear the input box\n",
    "    input_box.delete(0, END)\n",
    "\n",
    "    # Speak the user's input\n",
    "    speak(\"You said: \" + user_input)"
   ]
  },
  {
   "cell_type": "code",
   "execution_count": 4,
   "id": "0d8467cc",
   "metadata": {},
   "outputs": [
    {
     "data": {
      "text/plain": [
       "''"
      ]
     },
     "execution_count": 4,
     "metadata": {},
     "output_type": "execute_result"
    }
   ],
   "source": [
    "# Create the main window\n",
    "window = Tk()\n",
    "window.title(\"Virtual Assistant\")"
   ]
  },
  {
   "cell_type": "raw",
   "id": "0d89b5fb",
   "metadata": {},
   "source": [
    "# Add an image\n",
    "image = PhotoImage(file=r'C:\\Users\\mahaj\\Downloads\\OIP.jpeg')\n",
    "label = Label(window, image=image)\n",
    "label.pack()"
   ]
  },
  {
   "cell_type": "code",
   "execution_count": 5,
   "id": "64857979",
   "metadata": {},
   "outputs": [],
   "source": [
    "input_box = Entry(window, width=50)\n",
    "input_box.pack(pady=10)\n",
    "\n",
    "button = Button(window, text=\"Speak\", command=get_input)\n",
    "button.pack()"
   ]
  },
  {
   "cell_type": "code",
   "execution_count": 6,
   "id": "6dcd1eee",
   "metadata": {},
   "outputs": [
    {
     "name": "stdout",
     "output_type": "stream",
     "text": [
      "Clearing background noise...Please wait\n",
      "\n",
      "\n",
      "hello, i am mini alexa how can i help you ??\n",
      "\n",
      "\n",
      "Start Speaking!!\n",
      "you said : india\n",
      " Here is what i found on the internet..\n",
      "\n",
      "\n",
      "Start Speaking!!\n",
      "you said : stop\n",
      "good bye, have a nice day !!\n"
     ]
    },
    {
     "ename": "SystemExit",
     "evalue": "",
     "output_type": "error",
     "traceback": [
      "An exception has occurred, use %tb to see the full traceback.\n",
      "\u001b[1;31mSystemExit\u001b[0m\n"
     ]
    },
    {
     "name": "stderr",
     "output_type": "stream",
     "text": [
      "C:\\Users\\mahaj\\anaconda3\\Lib\\site-packages\\IPython\\core\\interactiveshell.py:3534: UserWarning: To exit: use 'exit', 'quit', or Ctrl-D.\n",
      "  warn(\"To exit: use 'exit', 'quit', or Ctrl-D.\", stacklevel=1)\n"
     ]
    }
   ],
   "source": [
    "# Run the main event loop\n",
    "window.mainloop()\n",
    "\n",
    "engine=pyttsx3.init()\n",
    "engine.setProperty(\"rate\", 150)\n",
    "voices = engine.getProperty(\"voices\")\n",
    "engine.setProperty('voice', voices [1].id)\n",
    "recognizer=sr.Recognizer()\n",
    "def engine_talk(text):\n",
    " engine.say(text)\n",
    " engine.runAndWait()\n",
    "def run_alexa():\n",
    "\n",
    " with sr.Microphone() as source:\n",
    "  recognizer.adjust_for_ambient_noise(source,duration=1)\n",
    "  print('\\n')\n",
    "  print(\"Start Speaking!!\")\n",
    "  engine_talk(\"Start Speaking\")\n",
    "  engine_talk('listening.. ')\n",
    "  recordedaudio=recognizer.listen(source)\n",
    "          \n",
    " try:\n",
    "  command=recognizer.recognize_google(recordedaudio,language='en-in')\n",
    "  command = command.lower()\n",
    "  \n",
    "\n",
    "  if 'alexa' in command :\n",
    "       command = command.replace('alexa', '')\n",
    "       print('you said'+command)\n",
    "  else :\n",
    "\n",
    "     print('you said : '+command)\n",
    "  if 'hello' in command :\n",
    "     print('hello how can i helpp you ??')\n",
    "     engine_talk('hello, how can i help you ??')\n",
    "  elif 'who are you' in command :\n",
    "     print('I am mini  alexa a k a your virtual assistant master.how can i help you ??')\n",
    "     engine_talk('I am mini alexa a k a your virtual assistant master. how can i help you ??')\n",
    "  elif 'can you do' in command :\n",
    "     print('''i can play songs on youtube , tell you a joke, search on wikipedia, tell date and time,find your location, locate area on map,\n",
    "           open different websites like instagram, youtube,gmail, git hub, stack overflow and searches on google.How may i help you ??''')\n",
    "     engine_talk('''i can play songs on youtube , tell you a joke, search on wikipedia, tell date and time,find your location, locate area on map,\n",
    "           open different websites like insta gram, youtube,gmail, git hub, stack overflow and searches on google. How may i help you ??''')\n",
    "\n",
    "  elif 'play' in command:\n",
    "      song = command.replace('play', '')\n",
    "      print('Playing' +song)\n",
    "      engine_talk('Playing' +song)\n",
    "      pywhatkit.playonyt(song)\n",
    "  elif 'date and time' in command :\n",
    "      today = date.today()\n",
    "      time = datetime.datetime.now().strftime('%I:%M %p')\n",
    "# Textual month, day and year\n",
    "      d2 = today.strftime(\"%B %d, %Y\")\n",
    "      print(\"Today's Date is \", d2, 'Current time is', time)\n",
    "      engine_talk('Today is : '+ d2)\n",
    "      engine_talk('and current time is '+ time)\n",
    "  elif 'time and date' in command :\n",
    "      today = date.today()\n",
    "      time = datetime.datetime.now().strftime('%I:%M %p')\n",
    "# Textual month, day and year\n",
    "      d2 = today.strftime(\"%B %d, %Y\")\n",
    "      print(\"Today's Date is \", d2, 'Current time is', time)\n",
    "      engine_talk( 'Current time is '+ time)\n",
    "      engine_talk('and Today is : '+ d2)\n",
    "\n",
    "  elif 'time' in command:\n",
    "      time = datetime.datetime.now().strftime('%I:%M %p')\n",
    "      print('The current time is' +time)\n",
    "      engine_talk('The current time is')\n",
    "      engine_talk(time)\n",
    "  elif 'date' in command:\n",
    "      today = date.today()\n",
    "      print(\"Today's date:\", today)\n",
    "# Textual month, day and year\n",
    "      d2 = today.strftime(\"%B %d, %Y\")\n",
    "      print(\"Today's Date is \", d2)\n",
    "      engine_talk('The todays date is')\n",
    "      engine_talk(d2)\n",
    "  elif 'tell me about' in command:\n",
    "      name = command.replace('tell me about' , '')\n",
    "      info = wikipedia.summary(name, 1)\n",
    "      print(info)\n",
    "      engine_talk(info)\n",
    "  elif 'wikipedia' in command:\n",
    "      name = command.replace('wikipedia' , '')\n",
    "      info = wikipedia.summary(name, 1)\n",
    "      print(info)\n",
    "      engine_talk(info)\n",
    "  elif 'what is' in command:\n",
    "      name = command.replace('what is ' , '')\n",
    "      info = wikipedia.summary(name, 1)\n",
    "      print(info)\n",
    "      engine_talk(info)\n",
    "  elif 'who is ' in command:\n",
    "      name = command.replace('who is' , '')\n",
    "      info = wikipedia.summary(name, 1)\n",
    "      print(info)\n",
    "      engine_talk(info)\n",
    "  elif 'what is ' in command :\n",
    "      search = 'https://www.google.com/search?q='+command\n",
    "      print(' Here is what i found on the internet..')\n",
    "      engine_talk('searching... Here is what i found on the internet..')\n",
    "      webbrowser.open(search)\n",
    "  elif 'joke' in command:\n",
    "      _joke = pyjokes.get_joke()\n",
    "      print(_joke)\n",
    "      engine_talk(_joke)\n",
    "  elif 'search' in command :\n",
    "       search = 'https://www.google.com/search?q='+command\n",
    "       engine_talk('searching... ')\n",
    "       webbrowser.open(search)\n",
    "  elif \"my location\" in command:\n",
    "       url = \"https://www.google.com/maps/search/Where+am+I+?/\"\n",
    "       webbrowser.get().open(url)\n",
    "       engine_talk(\"You must be somewhere near here, as per Google maps\")\n",
    "  elif 'locate ' in command :\n",
    "       engine_talk('locating ...')\n",
    "       loc = command.replace('locate', '')\n",
    "  elif 'on map' in command :\n",
    "       loc= command.replace('on map',' ')\n",
    "       url = 'https://google.nl/maps/place/'+loc+'/&'\n",
    "       webbrowser.get().open(url)\n",
    "       print('Here is the location of '+loc)\n",
    "       engine_talk('Here is the location of '+loc)\n",
    "  elif 'on map' in command :\n",
    "       engine_talk('locating ...')\n",
    "       loc = command.split(\" \")\n",
    "       print(loc[1])\n",
    "       url = 'https://google.nl/maps/place/'+loc[1] +'/&'\n",
    "       webbrowser.get().open(url)\n",
    "       print('Here is the location of '+loc[1])\n",
    "       engine_talk('Here is the location of '+loc[1])\n",
    "\n",
    "  elif 'location of' in command :\n",
    "       engine_talk('locating ...')\n",
    "       loc = command.replace('find location of', '')\n",
    "       url = 'https://google.nl/maps/place/'+loc+'/&'\n",
    "       webbrowser.get().open(url)\n",
    "       print('Here is the location of '+loc)\n",
    "       engine_talk('Here is the location of '+loc)\n",
    "  elif 'where is ' in command :\n",
    "       engine_talk('locating ...')\n",
    "       loc = command.replace('where is', '')\n",
    "       url = 'https://google.nl/maps/place/'+loc+'/&'\n",
    "       webbrowser.get().open(url)\n",
    "       print('Here is the location of '+loc)\n",
    "       engine_talk('Here is the location of '+loc)\n",
    "  elif 'bootcamps' in command :\n",
    "       search = 'http://tathastu.twowaits.in/index.html#courses'\n",
    "       engine_talk('opening boot camps')\n",
    "       webbrowser.open(search)\n",
    "  elif 'boot camps' in command :\n",
    "       search = 'http://tathastu.twowaits.in/index.html#courses'\n",
    "       engine_talk('opening boot camps')\n",
    "       webbrowser.open(search)\n",
    "  elif 'python bootcamp' in command :\n",
    "       search = 'http://tathastu.twowaits.in/kickstart_python.html'\n",
    "       engine_talk('showing pythonboot camp')\n",
    "       webbrowser.open(search)\n",
    "  elif 'data science bootcamp' in command :\n",
    "       search = 'http://tathastu.twowaits.in/kickstart_data_science.html'\n",
    "       engine_talk('showing data science and ml bootcamp')\n",
    "       webbrowser.open(search)\n",
    "  elif 'open google' in command :\n",
    "       print('opening google ...')\n",
    "       engine_talk('opening google..')\n",
    "       webbrowser.open_new('https://www.google.co.in/')\n",
    "  elif 'gmail' in command :\n",
    "       print('opening gmail ...')\n",
    "       engine_talk('opening gmail..')\n",
    "       webbrowser.open_new('https://mail.google.com/')\n",
    "  elif 'open youtube' in command :\n",
    "        print('opening you tube ...')\n",
    "        engine_talk('opening you tube..')\n",
    "        webbrowser.open_new('https://www.youtube.com/')\n",
    "  elif 'open instagram' in command :\n",
    "        print('opening instagram ...')\n",
    "        engine_talk('opening insta gram...')\n",
    "        webbrowser.open_new('https://www.instagram.com/')\n",
    "  elif 'open stack overflow' in command :\n",
    "        print('opening stackoverflow ...')\n",
    "        engine_talk('opening stack overflow...')\n",
    "        webbrowser.open_new('https://stackoverflow.com/')\n",
    "  elif \"who made you\" in command or \"who created you\" in command:\n",
    "      print(\"I have been created by sanket.\")\n",
    "      engine_talk(\"I have been created by sanket.\")\n",
    "  elif 'open github' in command :\n",
    "        print('opening git hub ...')\n",
    "        engine_talk('opening git hub...')\n",
    "        webbrowser.open_new('https://github.com/')\n",
    "  elif 'bye' in command:\n",
    "        print('good bye, have a nice day !!')\n",
    "        engine_talk('good bye, have a nice day !!')\n",
    "        sys.exit(\"Exit\")\n",
    "  elif 'thank you' in command :\n",
    "        print(\"your welcome\")\n",
    "        engine_talk('your welcome')\n",
    "  elif 'stop' in command:\n",
    "        print('good bye, have a nice day !!')\n",
    "        engine_talk('good bye, have a nice day !!')\n",
    "        sys.exit()\n",
    "  elif 'tata' in command:\n",
    "        print('good bye, have a nice day !!')\n",
    "        engine_talk('good bye, have a nice day !!')\n",
    "        sys.exit()\n",
    "  else:\n",
    "        print(' Here is what i found on the internet..')\n",
    "        engine_talk('Here is what i found on the internet..')\n",
    "        search = 'https://www.google.com/search?q='+command\n",
    "        webbrowser.open(search)\n",
    " except Exception as ex:\n",
    "     print(\"Unable to Recognize your voice.\")\n",
    "     engine_talk(\"Unable to Recognize your voice.\")\n",
    "\n",
    "\n",
    "print('Clearing background noise...Please wait')\n",
    "engine_talk('Clearing background noise...Please wait')\n",
    "print('\\n')\n",
    "print(\"hello, i am mini alexa how can i help you ??\")\n",
    "engine_talk (\"hello i am mini alexa how can i help you \")\n",
    "\n",
    "while True:\n",
    "    run_alexa()"
   ]
  },
  {
   "cell_type": "code",
   "execution_count": null,
   "id": "e04248d7",
   "metadata": {},
   "outputs": [],
   "source": []
  }
 ],
 "metadata": {
  "kernelspec": {
   "display_name": "Python 3 (ipykernel)",
   "language": "python",
   "name": "python3"
  },
  "language_info": {
   "codemirror_mode": {
    "name": "ipython",
    "version": 3
   },
   "file_extension": ".py",
   "mimetype": "text/x-python",
   "name": "python",
   "nbconvert_exporter": "python",
   "pygments_lexer": "ipython3",
   "version": "3.11.5"
  }
 },
 "nbformat": 4,
 "nbformat_minor": 5
}
